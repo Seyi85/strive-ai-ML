{
 "cells": [
  {
   "cell_type": "markdown",
   "metadata": {},
   "source": [
    "# KNN From Sratch\n",
    "\n",
    "In this workbook we will guide you through the steps to implement KNN from scratch. Once this is done you'll implement you solution in a class that is tested with the knn_class_tester notebook.\n",
    "\n",
    "1. Use the ```make_blobs``` function from SKLearn to make a dataset to test your KNN functions.\n",
    "2. Create helper functions. These will be useful when you go to implement your class.\n",
    "    - Squaring the difference of two vectors.\n",
    "    - Summing the square differences and returning the square root.\n",
    "    - Calculating the euclidian distances\n",
    "    - An evaluation function to evalaute predictions\n",
    "3. Create the KNN predcit function"
   ]
  },
  {
   "cell_type": "code",
   "execution_count": 2,
   "metadata": {},
   "outputs": [
    {
     "name": "stderr",
     "output_type": "stream",
     "text": [
      "C:\\Users\\oolus\\anaconda3\\lib\\site-packages\\sklearn\\utils\\deprecation.py:143: FutureWarning: The sklearn.datasets.samples_generator module is  deprecated in version 0.22 and will be removed in version 0.24. The corresponding classes / functions should instead be imported from sklearn.datasets. Anything that cannot be imported from sklearn.datasets is now part of the private API.\n",
      "  warnings.warn(message, FutureWarning)\n"
     ]
    }
   ],
   "source": [
    "#import libraries\n",
    "import numpy as np\n",
    "from collections import Counter\n",
    "import matplotlib.pyplot as plt\n",
    "from sklearn.datasets.samples_generator import make_blobs"
   ]
  },
  {
   "cell_type": "markdown",
   "metadata": {},
   "source": [
    "### Step 1: Create a sample dataset\n",
    "1. Use ```make_blobs``` to create a sample set\n",
    "2. Start with 300 samples, 4 centres, 0.6 standard deviation, and random state 0\n",
    "3. Plot the samples"
   ]
  },
  {
   "cell_type": "code",
   "execution_count": 17,
   "metadata": {},
   "outputs": [
    {
     "data": {
      "text/plain": [
       "<matplotlib.collections.PathCollection at 0x187f435e2b0>"
      ]
     },
     "execution_count": 17,
     "metadata": {},
     "output_type": "execute_result"
    },
    {
     "data": {
      "image/png": "[encoded data removed]",
      "text/plain": [
       "<Figure size 432x288 with 1 Axes>"
      ]
     },
     "metadata": {
      "needs_background": "light"
     },
     "output_type": "display_data"
    }
   ],
   "source": [
    "#make the dataset with make_blobs\n",
    "#your code here\n",
    "#To generate 2d classification dataset\n",
    "x,y = make_blobs(n_samples=300, centers= 4, n_features=2, cluster_std = 0.6, random_state=0)\n",
    "\n",
    "plt.scatter(x[:, 0], x[:, 1])\n"
   ]
  },
  {
   "cell_type": "markdown",
   "metadata": {},
   "source": [
    "### Step 2: Create the helper functions\n",
    "1. Implement ```square_diff``` that takes in two vectors ```x1``` and ```x2``` and returns their squared difference. Hint: Use ```assert``` to check their lenghts match.\n",
    "2. Implement ```root_sum_squared``` that takes in a vector of squaerd differences and returns the square root of the summed elements.\n",
    "3. Implement ```euclidean_distances``` that takes in feature and prediction vectors and computes the distances. *Hint:* ```np.linalg.norm```\n",
    "4. Implement ```evaluate``` that takes in ```y_hat``` and ```y_true``` (classifications of the blobs)and returns the accruacy of the KNN predict function."
   ]
  },
  {
   "cell_type": "code",
   "execution_count": 34,
   "metadata": {
    "scrolled": true
   },
   "outputs": [
    {
     "name": "stdout",
     "output_type": "stream",
     "text": [
      "[1.29950254e+00 8.82328133e+00 3.94440588e+00 8.83353096e+00\n",
      " 6.21190657e-01 3.17596337e+00 3.40524002e+00 2.96745266e+00\n",
      " 8.63702882e+00 9.37153807e+00 4.49017494e+00 1.10238993e+01\n",
      " 3.26140391e+00 9.12263587e+00 1.48433731e+00 3.50268574e+00\n",
      " 3.46144631e+00 2.06231758e+00 4.19856406e+00 3.28310630e+00\n",
      " 1.42424138e+00 5.90557392e-01 4.30289046e+00 4.84813019e+00\n",
      " 4.52344885e+00 5.25148230e+00 8.31355816e-01 4.11488487e+00\n",
      " 5.18462071e+00 3.84011093e+00 8.38770712e+00 9.43552701e+00\n",
      " 2.30797485e+00 7.89773626e+00 9.58524095e+00 9.85886321e+00\n",
      " 9.50027057e+00 1.06077785e+01 4.68247511e+00 1.00073074e+00\n",
      " 2.92562102e+00 4.04059774e+00 5.52174460e+00 2.66616001e+00\n",
      " 4.16299337e+00 3.79013237e+00 9.48112148e+00 4.29795683e+00\n",
      " 9.04820139e+00 4.79175840e-01 5.43356288e+00 1.83386558e+00\n",
      " 8.51147261e+00 9.41967258e-01 2.98934841e-01 3.93277832e+00\n",
      " 7.85020453e+00 3.11642355e+00 9.53465624e+00 4.63674810e-01\n",
      " 9.55906390e+00 3.75121518e+00 1.08328780e+01 3.99142973e+00\n",
      " 5.21633934e+00 3.97080705e+00 9.96988699e+00 1.41888522e+00\n",
      " 1.05144206e+01 4.71139135e+00 2.85658351e+00 3.81585423e+00\n",
      " 9.10018904e+00 4.57922238e+00 3.42757888e+00 9.23853552e+00\n",
      " 4.73232511e+00 3.53764131e+00 1.43437281e+00 9.24099311e+00\n",
      " 1.16507928e+00 3.49046581e+00 2.21659194e-01 5.82256948e-01\n",
      " 9.41328492e+00 4.39646785e+00 1.57449766e+00 4.54542036e+00\n",
      " 8.70186797e+00 8.94342510e+00 3.27850702e+00 8.73796864e-01\n",
      " 1.05720674e+01 4.75762471e+00 4.30746605e+00 2.62721918e+00\n",
      " 4.82445862e-03 1.51338028e+00 5.19756400e+00 6.40408133e+00\n",
      " 9.20235837e+00 2.10547471e+00 8.35767807e+00 1.81571557e+00\n",
      " 3.49256361e+00 9.64103774e-01 2.51185640e+00 3.51239363e+00\n",
      " 8.15358955e+00 4.39273953e+00 3.27050610e+00 5.17165349e+00\n",
      " 1.08928793e+00 1.02643647e+01 1.07972227e+00 1.38897139e+00\n",
      " 9.17030719e+00 1.58386804e-01 2.11942694e-01 4.99029163e+00\n",
      " 3.55444197e+00 1.06936760e+00 4.61469304e+00 7.48378119e-01\n",
      " 1.96235332e-01 9.19900572e-01 1.01350473e+00 3.68064708e+00\n",
      " 1.95168456e-01 3.68696081e+00 8.50759818e+00 4.07122938e+00\n",
      " 3.92861960e+00 2.49397733e+00 8.56501843e+00 3.59156970e+00\n",
      " 5.79288586e+00 9.57325895e+00 2.77963546e+00 7.99574637e+00\n",
      " 1.06683777e+01 4.01140350e+00 2.12637357e+00 5.89342058e+00\n",
      " 3.57209944e+00 3.98627135e+00 8.66943167e+00 4.16821179e+00\n",
      " 8.40521286e+00 9.37438317e+00 9.45603256e+00 3.60142571e+00\n",
      " 6.90128661e+00 4.54568868e+00 1.54943990e+00 3.95501044e+00\n",
      " 9.02115443e+00 4.13444045e+00 9.12632059e-01 3.78853568e+00\n",
      " 1.02385718e+01 3.37046398e+00 3.37853169e+00 1.79452280e-01\n",
      " 3.96979311e+00 5.26384360e+00 2.23515232e+00 4.67144627e+00\n",
      " 1.28101445e-01 2.43407632e+00 2.97999300e+00 9.52225380e+00\n",
      " 7.91625927e-01 3.28946498e+00 5.45406994e+00 9.04315146e+00\n",
      " 7.90387022e-01 1.00721428e+00 3.51526162e+00 4.08965624e+00\n",
      " 1.67472560e+00 2.51229460e+00 4.95182408e+00 4.61292050e+00\n",
      " 4.48590683e+00 2.94389962e+00 4.11365521e+00 3.63007392e+00\n",
      " 1.15567763e+00 8.89610454e+00 3.10463827e+00 3.85022214e+00\n",
      " 3.46909005e+00 3.65447724e+00 4.15299171e+00 3.74552741e+00\n",
      " 5.77578127e+00 2.00357679e+00 4.12904240e+00 9.79319877e+00\n",
      " 2.44202146e+00 4.23641796e+00 1.97779836e+00 3.87474993e+00\n",
      " 2.67522621e+00 7.49146336e+00 4.41737895e+00 9.36906694e+00\n",
      " 3.60853201e+00 7.71360240e+00 3.16861750e+00 4.32226866e+00\n",
      " 4.58330561e+00 3.31077075e+00 9.13135619e+00 3.21239765e+00\n",
      " 3.53164915e+00 1.49481236e+00 3.29628560e+00 3.90306351e+00\n",
      " 9.49171094e+00 1.90925210e+00 1.58582673e+00 5.76888130e+00\n",
      " 1.55226381e+00 5.71919842e+00 2.67171082e+00 7.76278237e+00\n",
      " 8.93377355e+00 3.06206091e+00 3.18775183e+00 1.01398844e+01\n",
      " 3.12721575e+00 1.17431180e-01 4.02797452e+00 3.54814797e+00\n",
      " 1.25655004e+00 4.33436554e+00 9.95874926e+00 4.94831612e+00\n",
      " 1.68025617e+00 4.56710305e+00 2.53854352e+00 9.13391897e+00\n",
      " 9.23569664e+00 9.18414800e+00 9.63907703e+00 5.09703583e+00\n",
      " 4.30752836e+00 6.97278673e+00 2.46431808e+00 4.55075244e+00\n",
      " 8.36965924e-01 4.11301641e+00 5.10479474e+00 5.85092329e+00\n",
      " 4.56454294e+00 1.83489027e+00 1.11219916e+00 9.13952423e+00\n",
      " 3.63580766e+00 4.60263986e+00 5.56971206e+00 7.31814697e-01\n",
      " 8.70415992e+00 4.08953133e+00 2.36355652e+00 8.28537820e+00\n",
      " 4.69816762e+00 8.66466634e-01 5.99159246e-01 5.69601805e+00\n",
      " 4.38875311e+00 1.09304507e+00 1.65362866e+00 1.77017829e+00\n",
      " 8.42752356e-02 2.75060867e+00 9.39474158e+00 9.64782806e+00\n",
      " 1.20123165e+00 1.51888256e+00 1.90298135e+00 1.52351129e+00\n",
      " 1.38444885e+00 2.09709525e+00 8.80692930e+00 4.07637021e+00\n",
      " 9.84219613e+00 2.98850179e+00 3.06058732e+00 6.95900911e-01\n",
      " 8.23048357e+00 1.02692387e+01 9.24344276e+00 3.93899224e-01\n",
      " 1.12657570e+00 4.09693868e+00 7.42162656e+00 4.54112656e+00]\n"
     ]
    }
   ],
   "source": [
    "#implement square diff\n",
    "# your code here\n",
    "x1 = np.array([x[:,0]])\n",
    "x2 = np.array([x[:, 1]])\n",
    "Dis_vect = (np.sqrt(sum(x1-x2)**2))\n",
    "print(Dis_vect)\n"
   ]
  },
  {
   "cell_type": "code",
   "execution_count": 32,
   "metadata": {},
   "outputs": [
    {
     "name": "stdout",
     "output_type": "stream",
     "text": [
      "[2.97321622e+00 5.99596514e+00 6.25483185e+00 6.79629833e+00\n",
      " 3.16389348e+00 3.69927171e+00 2.11205036e-01 5.79490149e+00\n",
      " 8.22716448e+00 7.94933884e+00 1.06542958e+00 5.68388348e+00\n",
      " 5.74657994e+00 4.66696289e+00 1.42593931e+00 4.41026932e+00\n",
      " 5.59992337e+00 3.07641419e+00 2.06475185e+00 1.12592428e+00\n",
      " 4.00588518e+00 2.96366248e+00 5.77161828e+00 8.55167175e-01\n",
      " 6.86888501e-01 4.14043467e+00 2.56360238e+00 5.30440974e+00\n",
      " 5.75864396e-01 4.21356220e+00 7.36104024e+00 5.32150495e+00\n",
      " 6.05340989e+00 5.63530835e+00 6.29666182e+00 5.02018674e+00\n",
      " 5.46813201e+00 5.36492287e+00 2.76476111e-01 2.32691401e+00\n",
      " 4.26519501e+00 6.98170095e-02 5.42676053e+00 5.75540253e+00\n",
      " 7.58980503e-01 1.74628186e+00 6.72427045e+00 1.19354306e+00\n",
      " 6.09011533e+00 3.49871041e+00 1.53411452e+00 3.07632916e+00\n",
      " 6.72281685e+00 2.45178850e+00 3.81183094e+00 1.71149808e+00\n",
      " 7.76720099e+00 8.34592882e-01 5.92195688e+00 2.32160023e+00\n",
      " 5.04509050e+00 4.89455614e+00 7.73298643e+00 1.91504550e+00\n",
      " 9.97205829e-01 1.59774735e+00 5.05368748e+00 3.32031905e+00\n",
      " 5.18090046e+00 1.71697730e+00 5.50103264e+00 2.84131162e+00\n",
      " 7.02581363e+00 1.36928601e+00 4.20127518e-01 7.66771111e+00\n",
      " 1.21666132e+00 5.91782115e+00 2.84650603e+00 7.17019079e+00\n",
      " 1.34434560e+00 4.68181945e+00 2.33744756e+00 2.87684432e+00\n",
      " 7.51520170e+00 6.26711808e+00 3.16396938e+00 5.40257384e+00\n",
      " 4.60670243e+00 6.02997276e+00 4.33734139e+00 2.69009917e+00\n",
      " 6.66056633e+00 1.26618443e+00 1.94788382e+00 4.95544058e+00\n",
      " 2.72794058e+00 3.68936946e+00 5.74235607e+00 1.59266620e-01\n",
      " 8.02618803e+00 1.23271825e+00 6.99212826e+00 2.92009733e+00\n",
      " 5.59739828e+00 3.49004370e+00 2.36683647e+00 6.20182903e+00\n",
      " 5.52449071e+00 6.35787971e+00 1.14460165e+00 1.95740360e+00\n",
      " 2.05715552e+00 5.90733793e+00 2.58779457e+00 5.60129239e+00\n",
      " 5.88353208e+00 2.36939577e+00 3.43500214e+00 5.90936097e+00\n",
      " 2.47839586e+00 2.28746237e+00 2.59039372e+00 1.93552581e+00\n",
      " 3.05246634e+00 3.17020997e+00 2.33210588e+00 9.63369105e-01\n",
      " 2.06641017e+00 2.09034686e-01 7.82708033e+00 7.95356953e-01\n",
      " 5.53531327e-01 2.36683546e+00 5.80505765e+00 1.08666040e+00\n",
      " 1.00323620e+00 5.38959190e+00 3.75640008e+00 6.91688915e+00\n",
      " 5.48434124e+00 1.91827324e+00 4.63770866e+00 2.65041214e+00\n",
      " 7.31054223e+00 4.58188549e-01 5.90579330e+00 4.18407453e+00\n",
      " 6.19924286e+00 5.78735572e+00 6.43249359e+00 5.52014719e+00\n",
      " 5.69861182e+00 4.99487440e+00 1.58505803e+00 1.88710526e+00\n",
      " 7.17661715e+00 3.62247694e-01 2.82483958e+00 5.99100581e+00\n",
      " 6.37429728e+00 4.71142152e+00 4.86627967e+00 3.45952751e+00\n",
      " 5.60072922e+00 1.64788441e-03 3.12999600e-01 5.09940443e+00\n",
      " 2.74134219e+00 4.86182453e+00 5.14544453e+00 7.07014912e+00\n",
      " 2.17177512e+00 7.08134020e+00 2.80694686e+00 6.74335420e+00\n",
      " 4.14792982e+00 3.61483124e+00 4.66084924e+00 2.15406626e+00\n",
      " 3.57511441e+00 5.87937025e+00 5.09189742e-01 1.45599555e+00\n",
      " 4.64893787e+00 5.80968505e+00 6.23904765e+00 5.16511950e+00\n",
      " 3.78470392e+00 5.43284118e+00 3.79891486e+00 1.84741342e+00\n",
      " 5.50145088e+00 4.77353597e+00 8.34291990e-02 1.02113901e+00\n",
      " 2.08449554e-01 5.30808005e+00 2.49829240e-01 6.16344504e+00\n",
      " 4.84627225e+00 2.29801607e+00 1.76192112e+00 2.60727253e-01\n",
      " 5.11057634e+00 4.52408501e+00 1.28961924e+00 7.99664634e+00\n",
      " 5.76108037e+00 5.76162914e+00 5.92791136e+00 1.03967644e+00\n",
      " 4.57960775e+00 6.73965972e+00 6.32087010e+00 1.79602785e+00\n",
      " 1.76005241e+00 2.47392583e+00 2.60763089e+00 4.76684562e+00\n",
      " 5.75927705e+00 3.14487650e+00 2.49551696e+00 6.08004575e-01\n",
      " 1.68755438e+00 5.43144253e-01 3.55890808e+00 6.84923508e+00\n",
      " 6.67642223e+00 7.32213150e+00 5.19520221e+00 7.35294905e+00\n",
      " 4.58341313e+00 1.90443046e+00 1.81231507e+00 5.12682509e+00\n",
      " 2.69452831e+00 1.83631390e+00 7.80337331e+00 1.21133363e+00\n",
      " 3.85591462e+00 5.12146339e+00 4.28316226e+00 5.97223587e+00\n",
      " 6.17514563e+00 5.53503119e+00 6.26771189e+00 1.79494339e+00\n",
      " 1.69871033e+00 5.51139039e+00 7.27663196e+00 1.47812588e+00\n",
      " 2.14023361e+00 5.14165728e+00 1.47539974e+00 1.97630219e+00\n",
      " 3.33472875e+00 2.22850539e+00 3.18614373e+00 6.39953647e+00\n",
      " 5.46448520e+00 5.27027687e+00 1.25034987e+00 2.00175796e+00\n",
      " 7.56196125e+00 2.07847948e+00 5.35342011e+00 7.10448287e+00\n",
      " 6.12852351e+00 3.36133837e+00 1.80250271e+00 6.04483042e-01\n",
      " 4.71419822e-01 5.76929078e+00 5.05278952e+00 1.91556406e+00\n",
      " 2.72428766e+00 6.94421958e+00 6.90858351e+00 5.92966626e+00\n",
      " 4.29210128e+00 3.69668307e+00 5.22280232e+00 3.17951388e+00\n",
      " 3.06199571e+00 4.36053456e+00 5.68939490e+00 2.78245664e+00\n",
      " 7.18841976e+00 4.82289892e+00 1.52880333e+00 2.93529530e+00\n",
      " 5.99014808e+00 6.95909625e+00 6.69208646e+00 3.55349618e+00\n",
      " 3.91010800e+00 4.97491897e+00 8.16058387e+00 9.58211372e-01]\n"
     ]
    }
   ],
   "source": [
    "#implement root sum squares\n",
    "#your code here\n",
    "x1 = np.array([x[:,0]])\n",
    "x2 = np.array([x[:, 1]])\n",
    "Dis_vect = (np.sqrt(sum(x1+x2)**2))\n",
    "print(Dis_vect)"
   ]
  },
  {
   "cell_type": "code",
   "execution_count": 19,
   "metadata": {},
   "outputs": [],
   "source": [
    "#implement the euclidean distances function\n",
    "#your code here\n"
   ]
  },
  {
   "cell_type": "code",
   "execution_count": 41,
   "metadata": {},
   "outputs": [],
   "source": [
    "#implement the evaluate function\n",
    "#your code here\n"
   ]
  },
  {
   "cell_type": "markdown",
   "metadata": {},
   "source": [
    "### Step 3: Create the KNN prediction function\n",
    "The KNN prediction function as the following steps\n",
    "1. For each row in ```X``` calcuate the euclidian distance of each row to the target vector.\n",
    "2. Combine the distances array with the target classifers array y.\n",
    "3. Sort the array and select the k lowest pairs and get the categorical values of the k nearest and put in a list\n",
    "4. Count the highest votes and update the highest voted class to y_hat"
   ]
  },
  {
   "cell_type": "code",
   "execution_count": 35,
   "metadata": {},
   "outputs": [],
   "source": [
    "#implement the predict function\n",
    "#your code here\n",
    "from collections import Counter\n",
    "from sklearn.model_selection import train_test_split\n",
    "X_train, X_test, y_train, y_test = train_test_split(X, y, test_size=0.2, random_state=42)\n"
   ]
  },
  {
   "cell_type": "code",
   "execution_count": 46,
   "metadata": {},
   "outputs": [
    {
     "data": {
      "text/plain": [
       "array([0, 1, 2, 0, 0, 3, 0, 2, 3, 0, 3, 1, 0, 0, 2, 0, 1, 3, 3, 3, 1, 1,\n",
       "       2, 1, 3, 1, 1, 3, 0, 2, 2, 1, 3, 1, 3, 0, 2, 0, 1, 1, 3, 2, 3, 2,\n",
       "       2, 2, 3, 2, 0, 1, 2, 2, 1, 2, 3, 3, 3, 3, 0, 2, 2, 1, 0, 0, 3, 0,\n",
       "       2, 1, 2, 1, 3, 1, 1, 1, 0, 2, 2, 1, 0, 0, 0, 2, 1, 2, 0, 0, 2, 2,\n",
       "       0, 1, 1, 0, 2, 1, 1, 3, 1, 2, 2, 0, 0, 0, 0, 3, 2, 0, 1, 2, 0, 1,\n",
       "       0, 0, 2, 2, 3, 3, 2, 1, 3, 2, 0, 1, 0, 2, 3, 3, 2, 3, 0, 3, 0, 3,\n",
       "       1, 1, 1, 3, 1, 3, 0, 0, 1, 2, 0, 0, 0, 3, 1, 0, 3, 2, 1, 1, 3, 0,\n",
       "       3, 2, 2, 3, 3, 0, 1, 1, 2, 0, 2, 0, 2, 0, 3, 0, 1, 1, 1, 1, 3, 1,\n",
       "       2, 2, 1, 3, 0, 2, 0, 0, 1, 2, 0, 3, 2, 3, 1, 1, 1, 3, 2, 1, 1, 1,\n",
       "       3, 3, 1, 3, 0, 3, 3, 2, 3, 3, 2, 3, 1, 2, 2, 3, 3, 0, 0, 3, 3, 0,\n",
       "       1, 1, 3, 1, 2, 1, 3, 3, 0, 2, 0, 3, 1, 2, 1, 1, 2, 1, 1, 3])"
      ]
     },
     "execution_count": 46,
     "metadata": {},
     "output_type": "execute_result"
    }
   ],
   "source": [
    "y_train"
   ]
  },
  {
   "cell_type": "code",
   "execution_count": 47,
   "metadata": {},
   "outputs": [],
   "source": [
    "count = Counter(y_train)"
   ]
  },
  {
   "cell_type": "code",
   "execution_count": 48,
   "metadata": {},
   "outputs": [
    {
     "data": {
      "text/plain": [
       "Counter({0: 58, 1: 65, 2: 57, 3: 60})"
      ]
     },
     "execution_count": 48,
     "metadata": {},
     "output_type": "execute_result"
    }
   ],
   "source": [
    "count"
   ]
  },
  {
   "cell_type": "code",
   "execution_count": 53,
   "metadata": {},
   "outputs": [
    {
     "data": {
      "text/plain": [
       "1"
      ]
     },
     "execution_count": 53,
     "metadata": {},
     "output_type": "execute_result"
    }
   ],
   "source": [
    "count.most_common(1)[0][0]"
   ]
  },
  {
   "cell_type": "code",
   "execution_count": 58,
   "metadata": {},
   "outputs": [],
   "source": [
    "y_preds = []\n",
    "for x1 in X_test:\n",
    "    distances = []\n",
    "    for x2 in X_train:\n",
    "        distance = np.sqrt(sum((x1-x2)**2))\n",
    "        distances.append(distance)\n",
    "    \n",
    "    dist_sorted = sorted(distances)[:5]\n",
    "    y_labels = []\n",
    "    for j in dist_sorted:\n",
    "        índex = distances.index(j)\n",
    "        y_labels.append(y_train[índex])\n",
    "    label_counts = Counter(y_labels)\n",
    "    most_common = label_counts.most_common(1)[0][0]\n",
    "    \n",
    "    y_preds.append(most_common)\n",
    "     \n",
    "        \n",
    "        "
   ]
  },
  {
   "cell_type": "code",
   "execution_count": 59,
   "metadata": {},
   "outputs": [
    {
     "name": "stdout",
     "output_type": "stream",
     "text": [
      "[2, 0, 3, 3, 1, 0, 2, 0, 1, 3, 2, 2, 1, 2, 2, 1, 0, 2, 3, 2, 1, 3, 3, 0, 0, 0, 1, 1, 2, 3, 1, 0, 3, 2, 2, 0, 0, 0, 3, 2, 2, 2, 3, 3, 0, 2, 2, 0, 2, 3, 1, 0, 2, 3, 0, 3, 1, 3, 0, 0]\n"
     ]
    }
   ],
   "source": [
    " print(y_preds) "
   ]
  },
  {
   "cell_type": "code",
   "execution_count": 74,
   "metadata": {},
   "outputs": [],
   "source": [
    "def knn(X_test,X_train):\n",
    "    y_preds = []\n",
    "    for x1 in X_test:\n",
    "        distances = []\n",
    "        for x2 in X_train:\n",
    "            distance = np.sqrt(sum((x1-x2)**2))\n",
    "            distances.append(distance)\n",
    "    \n",
    "    dist_sorted = sorted(distances)[:5]\n",
    "    y_labels = []\n",
    "    for j in dist_sorted:\n",
    "        índex = distances.index(j)\n",
    "        y_labels.append(y_train[índex])\n",
    "    label_counts = Counter(y_labels)\n",
    "    most_common = label_counts.most_common(1)[0][0]\n",
    "    \n",
    "    y_preds.append(most_common)\n",
    "    return y_preds"
   ]
  },
  {
   "cell_type": "code",
   "execution_count": 75,
   "metadata": {},
   "outputs": [
    {
     "data": {
      "text/plain": [
       "[0]"
      ]
     },
     "execution_count": 75,
     "metadata": {},
     "output_type": "execute_result"
    }
   ],
   "source": [
    "knn(X_test,X_train)"
   ]
  },
  {
   "cell_type": "code",
   "execution_count": 63,
   "metadata": {},
   "outputs": [
    {
     "name": "stdout",
     "output_type": "stream",
     "text": [
      "Accuracy 17.67%\n"
     ]
    }
   ],
   "source": [
    "print('Accuracy {:0.2f}%'.format(evaluate(predictions, y_true)))"
   ]
  },
  {
   "cell_type": "code",
   "execution_count": 80,
   "metadata": {},
   "outputs": [
    {
     "data": {
      "text/plain": [
       "100.0"
      ]
     },
     "execution_count": 80,
     "metadata": {},
     "output_type": "execute_result"
    }
   ],
   "source": [
    "(sum(y_preds == y_test)/len(y_preds))*100"
   ]
  }
 ],
 "metadata": {
  "kernelspec": {
   "display_name": "Python 3",
   "language": "python",
   "name": "python3"
  },
  "language_info": {
   "codemirror_mode": {
    "name": "ipython",
    "version": 3
   },
   "file_extension": ".py",
   "mimetype": "text/x-python",
   "name": "python",
   "nbconvert_exporter": "python",
   "pygments_lexer": "ipython3",
   "version": "3.8.3"
  }
 },
 "nbformat": 4,
 "nbformat_minor": 2
}
